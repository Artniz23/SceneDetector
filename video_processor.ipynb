{
 "cells": [
  {
   "cell_type": "code",
   "id": "initial_id",
   "metadata": {
    "collapsed": true,
    "ExecuteTime": {
     "end_time": "2025-07-21T22:59:01.714911Z",
     "start_time": "2025-07-21T22:59:01.711595Z"
    }
   },
   "source": [
    "from process_video.video_processor import VideoProcessor\n",
    "import os\n",
    "import pickle"
   ],
   "outputs": [],
   "execution_count": 17
  },
  {
   "metadata": {
    "ExecuteTime": {
     "end_time": "2025-07-21T22:59:01.983546Z",
     "start_time": "2025-07-21T22:59:01.980158Z"
    }
   },
   "cell_type": "code",
   "source": [
    "video_path = \"test4.mp4\"\n",
    "output_path = \"output_annotated2.mp4\"\n",
    "cache_path = \"results2.pkl\""
   ],
   "id": "550a95c6f9ae2467",
   "outputs": [],
   "execution_count": 18
  },
  {
   "metadata": {
    "ExecuteTime": {
     "end_time": "2025-07-21T23:00:55.008191Z",
     "start_time": "2025-07-21T23:00:54.861543Z"
    }
   },
   "cell_type": "code",
   "source": [
    "if os.path.exists(cache_path):\n",
    "    print(\"Загружаем из кеша...\")\n",
    "    with open(cache_path, \"rb\") as f:\n",
    "        track_faces, tracking_frames, track_id_to_person = pickle.load(f)\n",
    "        print(track_id_to_person)\n",
    "else:\n",
    "    processor = VideoProcessor()\n",
    "    track_faces, tracking_frames, track_id_to_person = processor.generate_video_with_persons(video_path, output_path)\n",
    "    with open(cache_path, \"wb\") as f:\n",
    "        pickle.dump((track_faces, tracking_frames, track_id_to_person), f)"
   ],
   "id": "3eb5acec1afe9d7d",
   "outputs": [
    {
     "name": "stdout",
     "output_type": "stream",
     "text": [
      "Загружаем из кеша...\n",
      "{'1': 'person_0', '2': 'person_1', '3': 'person_1', '6': 'person_1', '17': 'person_1', '19': 'person_1', '28': 'person_1', '31': 'person_1', '37': 'person_1', '40': 'person_1', '50': 'person_1', '53': 'person_1', '54': 'person_1', '55': 'person_1', '65': 'person_1', '66': 'person_1', '72': 'person_1', '73': 'person_1', '84': 'person_1', '85': 'person_1', '94': 'person_1', '96': 'person_1', '101': 'person_1'}\n"
     ]
    }
   ],
   "execution_count": 20
  },
  {
   "metadata": {},
   "cell_type": "code",
   "outputs": [],
   "execution_count": null,
   "source": "",
   "id": "ebca821b7647334"
  }
 ],
 "metadata": {
  "kernelspec": {
   "display_name": "Python 3",
   "language": "python",
   "name": "python3"
  },
  "language_info": {
   "codemirror_mode": {
    "name": "ipython",
    "version": 2
   },
   "file_extension": ".py",
   "mimetype": "text/x-python",
   "name": "python",
   "nbconvert_exporter": "python",
   "pygments_lexer": "ipython2",
   "version": "2.7.6"
  }
 },
 "nbformat": 4,
 "nbformat_minor": 5
}
